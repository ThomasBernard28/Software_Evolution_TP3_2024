{
 "cells": [
  {
   "cell_type": "code",
   "execution_count": 3,
   "id": "ef9cc5cb-3ce4-4e59-abd5-75785e4eb067",
   "metadata": {},
   "outputs": [],
   "source": [
    "import pandas as pd\n",
    "from pandas import option_context\n",
    "import numpy as np\n",
    "import requests\n",
    "import seaborn as sns\n",
    "import datetime\n",
    "import cliffsDelta as cd\n",
    "\n",
    "from tqdm import tqdm\n",
    "from statsmodels.stats.inter_rater import fleiss_kappa,aggregate_raters\n",
    "from scipy.stats import mannwhitneyu,shapiro,ttest_ind"
   ]
  },
  {
   "cell_type": "code",
   "execution_count": 4,
   "id": "67f34e37-48e6-4033-b30f-5ba256427f26",
   "metadata": {},
   "outputs": [],
   "source": [
    "QUERY_ROOT = \"https://api.github.com\"\n",
    "TOKEN = '' # write your GitHub API key here\n",
    "HEADERS={'Authorization':'token '+TOKEN}"
   ]
  },
  {
   "cell_type": "markdown",
   "id": "8095c72b-abe2-46b8-9034-1d9c7d98d3ad",
   "metadata": {},
   "source": [
    "## Section 3"
   ]
  },
  {
   "cell_type": "markdown",
   "id": "01c6e0c3-b012-4f00-a033-ddf3b74747c7",
   "metadata": {},
   "source": [
    "### Question 1"
   ]
  },
  {
   "cell_type": "markdown",
   "id": "2a3cc77d-eedd-4b5a-a560-b17a5a2b4cc4",
   "metadata": {},
   "source": [
    "#### Write an automated Python script to identify the GitHub Apps in the list of accounts, by calling the GitHub Users API and extracting the required information to make this decision. \n",
    "\n",
    "#### More information: You can search for the \"type\" key in the obtianed JSON result, If it is \"Bot\", then it is an app, if it is \"User\", then it is an account."
   ]
  },
  {
   "cell_type": "code",
   "execution_count": 5,
   "id": "2d0275f0-5c13-42ea-9025-5ea307d6398d",
   "metadata": {},
   "outputs": [
    {
     "name": "stdout",
     "output_type": "stream",
     "text": [
      "                contributor bothunter\n",
      "0            flyio-buildbot       Bot\n",
      "1         blockstack-devops       Bot\n",
      "2                SMillerDev     Human\n",
      "3                    petere     Human\n",
      "4                 bfontaine     Human\n",
      "5                   zuisong     Human\n",
      "6          asyncapi-bot-eve       Bot\n",
      "7            EricFromCanada     Human\n",
      "8                   Moulick     Human\n",
      "9               BrewTestBot       Bot\n",
      "10                 carlocab     Human\n",
      "11                  ddollar     Human\n",
      "12                  seratch     Human\n",
      "13                   sferik     Human\n",
      "14                  samford     Human\n",
      "15            jesseduffield     Human\n",
      "16                    claui     Human\n",
      "17               jeremylong     Human\n",
      "18                  tchajed     Human\n",
      "19          FnControlOption     Human\n",
      "20         flyio-flyctl-bot       Bot\n",
      "21                     avsm     Human\n",
      "22              denysdovhan     Human\n",
      "23                 derrabus     Human\n",
      "24  github-merge-queue[bot]       Bot\n",
      "25                 jidicula     Human\n",
      "26                bevanjkay     Human\n",
      "27            branchvincent     Human\n",
      "28                   nevack     Human\n",
      "29                     mkhl     Human\n",
      "30                  wing328     Human\n",
      "31                 stgraber     Human\n",
      "32               soloio-bot       Bot\n",
      "33                  matchai     Human\n",
      "34                kevinAlbs     Human\n",
      "35                 curquiza     Human\n",
      "36               dandavison     Human\n",
      "37               pulumi-bot       Bot\n",
      "38             epistrephein     Human\n",
      "39      github-actions[bot]       Bot\n"
     ]
    }
   ],
   "source": [
    "# 1. Read the given .csv file into a pandas DataFrame (df).\n",
    "# 2. Make sure there are 2 columns, one column name is \"contributor\" that has the name of the contributor, \n",
    "#    and another column name is \"bothunter\" that you will use later on in this assignment.\n",
    "# 3. Display the DataFrame.\n",
    "\n",
    "# YOUR CODE BELOW\n",
    "df = pd.read_csv('homebrew_homebrew-core_1/homebrew_homebrew-core_1.csv')\n",
    "print(df)"
   ]
  },
  {
   "cell_type": "code",
   "execution_count": 6,
   "id": "f9312364-57d3-4f26-a216-82a22eea8349",
   "metadata": {},
   "outputs": [
    {
     "name": "stdout",
     "output_type": "stream",
     "text": [
      "['flyio-buildbot', 'blockstack-devops', 'SMillerDev', 'petere', 'bfontaine', 'zuisong', 'asyncapi-bot-eve', 'EricFromCanada', 'Moulick', 'BrewTestBot', 'carlocab', 'ddollar', 'seratch', 'sferik', 'samford', 'jesseduffield', 'claui', 'jeremylong', 'tchajed', 'FnControlOption', 'flyio-flyctl-bot', 'avsm', 'denysdovhan', 'derrabus', 'github-merge-queue[bot]', 'jidicula', 'bevanjkay', 'branchvincent', 'nevack', 'mkhl', 'wing328', 'stgraber', 'soloio-bot', 'matchai', 'kevinAlbs', 'curquiza', 'dandavison', 'pulumi-bot', 'epistrephein', 'github-actions[bot]']\n"
     ]
    }
   ],
   "source": [
    "# 1. Store the names of the contributors in a list using the code snippet: 'df.contributor.to_list()'\n",
    "# 2. print the list\n",
    "\n",
    "# YOUR CODE BELOW\n",
    "contributors = df.contributor.to_list()\n",
    "print(contributors)"
   ]
  },
  {
   "cell_type": "code",
   "execution_count": 7,
   "id": "2cd6ab44-f113-466a-863c-862674798f4c",
   "metadata": {},
   "outputs": [
    {
     "name": "stdout",
     "output_type": "stream",
     "text": [
      "                contributor    app\n",
      "0            flyio-buildbot  False\n",
      "1         blockstack-devops  False\n",
      "2                SMillerDev  False\n",
      "3                    petere  False\n",
      "4                 bfontaine  False\n",
      "5                   zuisong  False\n",
      "6          asyncapi-bot-eve  False\n",
      "7            EricFromCanada  False\n",
      "8                   Moulick  False\n",
      "9               BrewTestBot  False\n",
      "10                 carlocab  False\n",
      "11                  ddollar  False\n",
      "12                  seratch  False\n",
      "13                   sferik  False\n",
      "14                  samford  False\n",
      "15            jesseduffield  False\n",
      "16                    claui  False\n",
      "17               jeremylong  False\n",
      "18                  tchajed  False\n",
      "19          FnControlOption  False\n",
      "20         flyio-flyctl-bot  False\n",
      "21                     avsm  False\n",
      "22              denysdovhan  False\n",
      "23                 derrabus  False\n",
      "24  github-merge-queue[bot]   True\n",
      "25                 jidicula  False\n",
      "26                bevanjkay  False\n",
      "27            branchvincent  False\n",
      "28                   nevack  False\n",
      "29                     mkhl  False\n",
      "30                  wing328  False\n",
      "31                 stgraber  False\n",
      "32               soloio-bot  False\n",
      "33                  matchai  False\n",
      "34                kevinAlbs  False\n",
      "35                 curquiza  False\n",
      "36               dandavison  False\n",
      "37               pulumi-bot  False\n",
      "38             epistrephein  False\n",
      "39      github-actions[bot]   True\n"
     ]
    }
   ],
   "source": [
    "# 1. Using a for loop, iterate over each contributor in the list and query the GitHub Users API.\n",
    "#    You can use \"query = f'{QUERY_ROOT}/users/{contributor}'\", where QUERY_ROOT is defined at the beginning of this notebook \n",
    "#    above and 'contributor' is each individul contributor from the list\n",
    "# 2. Get the response using 'response = requests.get(query, headers=HEADERS)'.\n",
    "# 3. convert the response to JSON using 'json_response = response.json()'.\n",
    "# 4. Iterate over this JSON response and get the value of the 'type' key. If it is \"Bot\" then the contributor is an App, \n",
    "#    if \"User\" then the contributor is an account. You should boolean values to indicate if the contributor is an App (True) or User/Organisation (False)\n",
    "# 5. Save these results in list of dictionary of the form [{'contributor': <contributor name>, 'app': <boolean value>}, {...}, {...}, {...}].\n",
    "#    Lets call this list as \"app_list_dict\"\n",
    "# 6. Finally convert this list of dictionary to DataFrame by writing 'pd.DataFrame.from_dict(app_dict)'\n",
    "# 7. Display the DataFrame. This should have two columns - contributor and app\n",
    "\n",
    "# YOUR CODE BELOW\n",
    "app_list_dict = []\n",
    "for contributor in contributors:\n",
    "    query = f'{QUERY_ROOT}/users/{contributor}'\n",
    "    response = requests.get(query, headers=HEADERS)\n",
    "    json_response = response.json()\n",
    "    app_dict = {'contributor': contributor}\n",
    "    if json_response['type'] == 'Bot':\n",
    "        app_dict['app'] = True\n",
    "    else:\n",
    "        app_dict['app'] = False\n",
    "    app_list_dict.append(app_dict)\n",
    "\n",
    "df_dict = pd.DataFrame.from_dict(app_list_dict)\n",
    "df_dict.to_csv('github_result.csv')\n",
    "print(df_dict)"
   ]
  },
  {
   "cell_type": "markdown",
   "id": "bf7a784f-8b41-488b-8034-7f66ed9b6d97",
   "metadata": {},
   "source": [
    "### Question 2\n",
    "\n",
    "#### Add an app column in the CSV file to store this information. You can write True if it is an app and False if it is not.\n"
   ]
  },
  {
   "cell_type": "code",
   "execution_count": 8,
   "id": "242398c5-d3ae-472f-99e8-ac86be7897c2",
   "metadata": {},
   "outputs": [
    {
     "name": "stdout",
     "output_type": "stream",
     "text": [
      "                contributor bothunter    app\n",
      "0            flyio-buildbot       Bot  False\n",
      "1         blockstack-devops       Bot  False\n",
      "2                SMillerDev     Human  False\n",
      "3                    petere     Human  False\n",
      "4                 bfontaine     Human  False\n",
      "5                   zuisong     Human  False\n",
      "6          asyncapi-bot-eve       Bot  False\n",
      "7            EricFromCanada     Human  False\n",
      "8                   Moulick     Human  False\n",
      "9               BrewTestBot       Bot  False\n",
      "10                 carlocab     Human  False\n",
      "11                  ddollar     Human  False\n",
      "12                  seratch     Human  False\n",
      "13                   sferik     Human  False\n",
      "14                  samford     Human  False\n",
      "15            jesseduffield     Human  False\n",
      "16                    claui     Human  False\n",
      "17               jeremylong     Human  False\n",
      "18                  tchajed     Human  False\n",
      "19          FnControlOption     Human  False\n",
      "20         flyio-flyctl-bot       Bot  False\n",
      "21                     avsm     Human  False\n",
      "22              denysdovhan     Human  False\n",
      "23                 derrabus     Human  False\n",
      "24  github-merge-queue[bot]       Bot   True\n",
      "25                 jidicula     Human  False\n",
      "26                bevanjkay     Human  False\n",
      "27            branchvincent     Human  False\n",
      "28                   nevack     Human  False\n",
      "29                     mkhl     Human  False\n",
      "30                  wing328     Human  False\n",
      "31                 stgraber     Human  False\n",
      "32               soloio-bot       Bot  False\n",
      "33                  matchai     Human  False\n",
      "34                kevinAlbs     Human  False\n",
      "35                 curquiza     Human  False\n",
      "36               dandavison     Human  False\n",
      "37               pulumi-bot       Bot  False\n",
      "38             epistrephein     Human  False\n",
      "39      github-actions[bot]       Bot   True\n"
     ]
    }
   ],
   "source": [
    "# Merge the app DataFrame to df by writing 'pd.merge(df, <app df>, on='contributor'). This is similar to SQL join on primary key 'contributor'.\n",
    "# The resultant df should have 3 columns - contributor, bothunter and app.\n",
    "\n",
    "# YOUR CODE BELOW\n",
    "result_df = pd.merge(df, df_dict, on='contributor')\n",
    "print(result_df)"
   ]
  },
  {
   "cell_type": "markdown",
   "id": "db9ba7d8-7a6f-4485-8e7b-bc5a00646021",
   "metadata": {},
   "source": [
    "### Question 3\n",
    "\n",
    "#### Report on the total number of GitHub Apps, and User accounts present in the list of accounts of your dataset."
   ]
  },
  {
   "cell_type": "code",
   "execution_count": 9,
   "id": "3092d616-2426-417a-95be-7f54f1124eff",
   "metadata": {},
   "outputs": [
    {
     "name": "stdout",
     "output_type": "stream",
     "text": [
      "Number of apps: 2\n",
      "Number of users: 38\n"
     ]
    }
   ],
   "source": [
    "nbr_of_apps = result_df[result_df['app'] == True].shape[0]\n",
    "nbr_of_users = result_df[result_df['app'] == False].shape[0]\n",
    "\n",
    "print(f\"Number of apps: {nbr_of_apps}\")\n",
    "print(f\"Number of users: {nbr_of_users}\")\n"
   ]
  },
  {
   "cell_type": "markdown",
   "id": "406e178f-2b41-4758-b075-e2eea47f3991",
   "metadata": {},
   "source": [
    "## Section 4"
   ]
  },
  {
   "cell_type": "markdown",
   "id": "a05bb032-1b55-402e-8074-42f2210f3a16",
   "metadata": {},
   "source": [
    "### Question 1"
   ]
  },
  {
   "cell_type": "markdown",
   "id": "48285de2-8b3a-481a-bf93-b99295ba8a4a",
   "metadata": {},
   "source": [
    "#### Write an automated script to report on the prediction of the GitHub accounts in your dataset, using BoDeGHa and RABBIT bot identification tools. For each tool, your script should add an extra column to the CSV ﬁle of your dataset, reporting the prediction (bot, human, unknown) of the considered tool on the considered account."
   ]
  },
  {
   "cell_type": "markdown",
   "id": "35d19172-9890-4706-93a1-663c8b2d28bd",
   "metadata": {},
   "source": [
    "#### More information:\n",
    "You can write an automated script to execute BoDeGHa and RABBIT, and save the results in a DataFrame. For BoDeGHa, you can ask the tool to give the output in CSV format, save it as a csv file and read it in a DataFrame. For RABBIT, you can use its internal argument to store the results in a .csv file and read it in a DataFrame. Remember to read their Documentation (Readme.md) for their input arguments and example outputs before using these tools.  \n",
    "Similar to what you did in Section 2 - Question 1 and 2, add an additional column named 'bodegha' to store the predictions \n",
    "given by BoDeGHa and add another column called 'rabbit' to store the preditions given by RABBIT. "
   ]
  },
  {
   "cell_type": "code",
   "execution_count": 10,
   "id": "ee4006c3-796d-4a7a-9b97-ec5007cc0680",
   "metadata": {},
   "outputs": [
    {
     "name": "stdout",
     "output_type": "stream",
     "text": [
      "                contributor  bodegha\n",
      "0                  curquiza      Bot\n",
      "1                jeremylong      Bot\n",
      "2                pulumi-bot      Bot\n",
      "3               BrewTestBot    Human\n",
      "4            EricFromCanada    Human\n",
      "5                   Moulick    Human\n",
      "6                SMillerDev    Human\n",
      "7                 bevanjkay    Human\n",
      "8             branchvincent    Human\n",
      "9                  carlocab    Human\n",
      "10                 derrabus    Human\n",
      "11                  samford    Human\n",
      "12                  zuisong    Human\n",
      "13      github-actions[bot]      Bot\n",
      "14           flyio-buildbot  Unknown\n",
      "15        blockstack-devops  Unknown\n",
      "16                   petere  Unknown\n",
      "17                bfontaine  Unknown\n",
      "18         asyncapi-bot-eve  Unknown\n",
      "19                  ddollar  Unknown\n",
      "20                  seratch  Unknown\n",
      "21                   sferik  Unknown\n",
      "22            jesseduffield  Unknown\n",
      "23                    claui  Unknown\n",
      "24                  tchajed  Unknown\n",
      "25          FnControlOption  Unknown\n",
      "26         flyio-flyctl-bot  Unknown\n",
      "27                     avsm  Unknown\n",
      "28              denysdovhan  Unknown\n",
      "29  github-merge-queue[bot]  Unknown\n",
      "30                 jidicula  Unknown\n",
      "31                   nevack  Unknown\n",
      "32                     mkhl  Unknown\n",
      "33                  wing328  Unknown\n",
      "34                 stgraber  Unknown\n",
      "35               soloio-bot  Unknown\n",
      "36                  matchai  Unknown\n",
      "37                kevinAlbs  Unknown\n",
      "38               dandavison  Unknown\n",
      "39             epistrephein  Unknown\n"
     ]
    }
   ],
   "source": [
    "# Read the .csv file that has the predicitons given by BoDeGHa.\n",
    "\n",
    "# YOUR CODE BELOW\n",
    "bodega_df = pd.read_csv('bodegha_predictions.csv')\n",
    "\n",
    "unknowns = []\n",
    "\n",
    "for user in df['contributor']:\n",
    "    if user not in bodega_df['account'].tolist():\n",
    "        unknowns.append(user)\n",
    "\n",
    "\n",
    "#for every element in unknowns add a record in bodega_df with 'Unknown' as prediction\n",
    "for unknown in unknowns:\n",
    "    bodega_df.loc[len(bodega_df.index)] = [unknown, 'Unknown']\n",
    "\n",
    "bodega_df = bodega_df.rename(columns={'account':'contributor', 'prediction':'bodegha'})\n",
    "print(bodega_df)\n"
   ]
  },
  {
   "cell_type": "code",
   "execution_count": 11,
   "id": "fd79d43a-902d-49f9-8ab4-2ca78e5f4393",
   "metadata": {},
   "outputs": [
    {
     "name": "stdout",
     "output_type": "stream",
     "text": [
      "                contributor bothunter    app  bodegha\n",
      "0            flyio-buildbot       Bot  False  Unknown\n",
      "1         blockstack-devops       Bot  False  Unknown\n",
      "2                SMillerDev     Human  False    Human\n",
      "3                    petere     Human  False  Unknown\n",
      "4                 bfontaine     Human  False  Unknown\n",
      "5                   zuisong     Human  False    Human\n",
      "6          asyncapi-bot-eve       Bot  False  Unknown\n",
      "7            EricFromCanada     Human  False    Human\n",
      "8                   Moulick     Human  False    Human\n",
      "9               BrewTestBot       Bot  False    Human\n",
      "10                 carlocab     Human  False    Human\n",
      "11                  ddollar     Human  False  Unknown\n",
      "12                  seratch     Human  False  Unknown\n",
      "13                   sferik     Human  False  Unknown\n",
      "14                  samford     Human  False    Human\n",
      "15            jesseduffield     Human  False  Unknown\n",
      "16                    claui     Human  False  Unknown\n",
      "17               jeremylong     Human  False      Bot\n",
      "18                  tchajed     Human  False  Unknown\n",
      "19          FnControlOption     Human  False  Unknown\n",
      "20         flyio-flyctl-bot       Bot  False  Unknown\n",
      "21                     avsm     Human  False  Unknown\n",
      "22              denysdovhan     Human  False  Unknown\n",
      "23                 derrabus     Human  False    Human\n",
      "24  github-merge-queue[bot]       Bot   True  Unknown\n",
      "25                 jidicula     Human  False  Unknown\n",
      "26                bevanjkay     Human  False    Human\n",
      "27            branchvincent     Human  False    Human\n",
      "28                   nevack     Human  False  Unknown\n",
      "29                     mkhl     Human  False  Unknown\n",
      "30                  wing328     Human  False  Unknown\n",
      "31                 stgraber     Human  False  Unknown\n",
      "32               soloio-bot       Bot  False  Unknown\n",
      "33                  matchai     Human  False  Unknown\n",
      "34                kevinAlbs     Human  False  Unknown\n",
      "35                 curquiza     Human  False      Bot\n",
      "36               dandavison     Human  False  Unknown\n",
      "37               pulumi-bot       Bot  False      Bot\n",
      "38             epistrephein     Human  False  Unknown\n",
      "39      github-actions[bot]       Bot   True      Bot\n"
     ]
    }
   ],
   "source": [
    "# merge it to df - Now your df should have the following four columns - contributor, bothunter, app, bodegha\n",
    "\n",
    "# YOUR CODE BELOW\n",
    "final_df = pd.merge(result_df, bodega_df, on='contributor')\n",
    "print(final_df)\n",
    "\n",
    "\n"
   ]
  },
  {
   "cell_type": "code",
   "execution_count": 12,
   "id": "bf49eb15-f5b7-4543-a1e7-056c1f6205cf",
   "metadata": {},
   "outputs": [
    {
     "name": "stdout",
     "output_type": "stream",
     "text": [
      "                contributor rabbit\n",
      "0            flyio-buildbot    bot\n",
      "1         blockstack-devops    bot\n",
      "2                SMillerDev  human\n",
      "3                    petere  human\n",
      "4                 bfontaine  human\n",
      "5                   zuisong  human\n",
      "6          asyncapi-bot-eve    bot\n",
      "7            EricFromCanada  human\n",
      "8                   Moulick  human\n",
      "9               BrewTestBot    bot\n",
      "10                 carlocab  human\n",
      "11                  ddollar  human\n",
      "12                  seratch  human\n",
      "13                   sferik  human\n",
      "14                  samford  human\n",
      "15            jesseduffield  human\n",
      "16                    claui  human\n",
      "17               jeremylong  human\n",
      "18                  tchajed  human\n",
      "19          FnControlOption  human\n",
      "20         flyio-flyctl-bot    bot\n",
      "21                     avsm  human\n",
      "22              denysdovhan  human\n",
      "23                 derrabus  human\n",
      "24  github-merge-queue[bot]    app\n",
      "25                 jidicula  human\n",
      "26                bevanjkay  human\n",
      "27            branchvincent  human\n",
      "28                   nevack  human\n",
      "29                     mkhl  human\n",
      "30                  wing328  human\n",
      "31                 stgraber  human\n",
      "32               soloio-bot    bot\n",
      "33                  matchai  human\n",
      "34                kevinAlbs  human\n",
      "35                 curquiza  human\n",
      "36               dandavison  human\n",
      "37               pulumi-bot    bot\n",
      "38             epistrephein  human\n",
      "39      github-actions[bot]    app\n"
     ]
    }
   ],
   "source": [
    "# Read the predictions given by RABBIT from the corresponding .csv file \n",
    "\n",
    "# YOUR CODE BELOW\n",
    "rabbit_df = pd.read_csv('homebrew_homebrew-core_1/rabbit_predictions.csv')\n",
    "rabbit_df = rabbit_df.rename(columns={'account':'contributor', 'prediction':'rabbit'})\n",
    "#drop index and confidence columns\n",
    "rabbit_df = rabbit_df.drop(columns=['index', 'confidence'])\n",
    "print(rabbit_df)"
   ]
  },
  {
   "cell_type": "code",
   "execution_count": 13,
   "id": "43877324-9c86-42f3-a109-bda2565dab87",
   "metadata": {},
   "outputs": [
    {
     "name": "stdout",
     "output_type": "stream",
     "text": [
      "                contributor bothunter    app  bodegha rabbit\n",
      "0            flyio-buildbot       Bot  False  Unknown    bot\n",
      "1         blockstack-devops       Bot  False  Unknown    bot\n",
      "2                SMillerDev     Human  False    Human  human\n",
      "3                    petere     Human  False  Unknown  human\n",
      "4                 bfontaine     Human  False  Unknown  human\n",
      "5                   zuisong     Human  False    Human  human\n",
      "6          asyncapi-bot-eve       Bot  False  Unknown    bot\n",
      "7            EricFromCanada     Human  False    Human  human\n",
      "8                   Moulick     Human  False    Human  human\n",
      "9               BrewTestBot       Bot  False    Human    bot\n",
      "10                 carlocab     Human  False    Human  human\n",
      "11                  ddollar     Human  False  Unknown  human\n",
      "12                  seratch     Human  False  Unknown  human\n",
      "13                   sferik     Human  False  Unknown  human\n",
      "14                  samford     Human  False    Human  human\n",
      "15            jesseduffield     Human  False  Unknown  human\n",
      "16                    claui     Human  False  Unknown  human\n",
      "17               jeremylong     Human  False      Bot  human\n",
      "18                  tchajed     Human  False  Unknown  human\n",
      "19          FnControlOption     Human  False  Unknown  human\n",
      "20         flyio-flyctl-bot       Bot  False  Unknown    bot\n",
      "21                     avsm     Human  False  Unknown  human\n",
      "22              denysdovhan     Human  False  Unknown  human\n",
      "23                 derrabus     Human  False    Human  human\n",
      "24  github-merge-queue[bot]       Bot   True  Unknown    app\n",
      "25                 jidicula     Human  False  Unknown  human\n",
      "26                bevanjkay     Human  False    Human  human\n",
      "27            branchvincent     Human  False    Human  human\n",
      "28                   nevack     Human  False  Unknown  human\n",
      "29                     mkhl     Human  False  Unknown  human\n",
      "30                  wing328     Human  False  Unknown  human\n",
      "31                 stgraber     Human  False  Unknown  human\n",
      "32               soloio-bot       Bot  False  Unknown    bot\n",
      "33                  matchai     Human  False  Unknown  human\n",
      "34                kevinAlbs     Human  False  Unknown  human\n",
      "35                 curquiza     Human  False      Bot  human\n",
      "36               dandavison     Human  False  Unknown  human\n",
      "37               pulumi-bot       Bot  False      Bot    bot\n",
      "38             epistrephein     Human  False  Unknown  human\n",
      "39      github-actions[bot]       Bot   True      Bot    app\n"
     ]
    }
   ],
   "source": [
    "# merge it to df - Now your df should have the following five columns - contributor, bothunter, app, bodegha, rabbit\n",
    "\n",
    "# YOUR CODE BELOW\n",
    "rabbit_full_df = pd.merge(final_df, rabbit_df, on='contributor')\n",
    "print(rabbit_full_df)\n",
    "\n"
   ]
  },
  {
   "cell_type": "code",
   "execution_count": 14,
   "id": "3d630b7d-494b-419d-9778-9c2eeb5faecc",
   "metadata": {},
   "outputs": [
    {
     "name": "stdout",
     "output_type": "stream",
     "text": [
      "                contributor bothunter    app  bodegha rabbit\n",
      "0            flyio-buildbot       Bot  False  Unknown    Bot\n",
      "1         blockstack-devops       Bot  False  Unknown    Bot\n",
      "2                SMillerDev     Human  False    Human  Human\n",
      "3                    petere     Human  False  Unknown  Human\n",
      "4                 bfontaine     Human  False  Unknown  Human\n",
      "5                   zuisong     Human  False    Human  Human\n",
      "6          asyncapi-bot-eve       Bot  False  Unknown    Bot\n",
      "7            EricFromCanada     Human  False    Human  Human\n",
      "8                   Moulick     Human  False    Human  Human\n",
      "9               BrewTestBot       Bot  False    Human    Bot\n",
      "10                 carlocab     Human  False    Human  Human\n",
      "11                  ddollar     Human  False  Unknown  Human\n",
      "12                  seratch     Human  False  Unknown  Human\n",
      "13                   sferik     Human  False  Unknown  Human\n",
      "14                  samford     Human  False    Human  Human\n",
      "15            jesseduffield     Human  False  Unknown  Human\n",
      "16                    claui     Human  False  Unknown  Human\n",
      "17               jeremylong     Human  False      Bot  Human\n",
      "18                  tchajed     Human  False  Unknown  Human\n",
      "19          FnControlOption     Human  False  Unknown  Human\n",
      "20         flyio-flyctl-bot       Bot  False  Unknown    Bot\n",
      "21                     avsm     Human  False  Unknown  Human\n",
      "22              denysdovhan     Human  False  Unknown  Human\n",
      "23                 derrabus     Human  False    Human  Human\n",
      "24  github-merge-queue[bot]       Bot   True  Unknown    Bot\n",
      "25                 jidicula     Human  False  Unknown  Human\n",
      "26                bevanjkay     Human  False    Human  Human\n",
      "27            branchvincent     Human  False    Human  Human\n",
      "28                   nevack     Human  False  Unknown  Human\n",
      "29                     mkhl     Human  False  Unknown  Human\n",
      "30                  wing328     Human  False  Unknown  Human\n",
      "31                 stgraber     Human  False  Unknown  Human\n",
      "32               soloio-bot       Bot  False  Unknown    Bot\n",
      "33                  matchai     Human  False  Unknown  Human\n",
      "34                kevinAlbs     Human  False  Unknown  Human\n",
      "35                 curquiza     Human  False      Bot  Human\n",
      "36               dandavison     Human  False  Unknown  Human\n",
      "37               pulumi-bot       Bot  False      Bot    Bot\n",
      "38             epistrephein     Human  False  Unknown  Human\n",
      "39      github-actions[bot]       Bot   True      Bot    Bot\n"
     ]
    }
   ],
   "source": [
    "# Replace the prediction result given by rabbit from 'bot' to 'Bot', 'app' to 'Bot', 'human' to 'Human', 'unknown' to 'Unknown' to maintain consistency\n",
    "# YOUR CODE BELOW\n",
    "for prediction in rabbit_full_df['rabbit']:\n",
    "    if prediction == 'bot' or prediction == 'app':\n",
    "        rabbit_full_df['rabbit'] = rabbit_full_df['rabbit'].replace(prediction, 'Bot')\n",
    "    elif prediction == 'human':\n",
    "        rabbit_full_df['rabbit'] = rabbit_full_df['rabbit'].replace(prediction, 'Human')\n",
    "    elif prediction == 'unknown':\n",
    "        rabbit_full_df['rabbit'] = rabbit_full_df['rabbit'].replace(prediction, 'Unknown')\n",
    "\n",
    "\n",
    "print(rabbit_full_df)\n",
    "rabbit_full_df.to_csv('rabbit_full_df.csv')\n"
   ]
  },
  {
   "cell_type": "markdown",
   "id": "a6f38f75-30ec-463f-bc98-89de44a14db4",
   "metadata": {},
   "source": [
    "### Question 2\n",
    "\n",
    "#### Add an extra column to the CSV ﬁle called 'manual' that has the label determined by you. For each account, of your own opinion on its nature (bot, human or unknown only in case of doubt) on the basis of a manual veriﬁcation of the contributor’s activities in the repository through the GitHub UI and through the GitHub Events API https://api.github.com/users/username/events, and taking into account the prediction made by the bot identification tools."
   ]
  },
  {
   "cell_type": "markdown",
   "id": "e0da30a5-19c6-4ebe-b4cf-9641a432a3ec",
   "metadata": {},
   "source": [
    "#### More information:\n",
    "For each contributor, look at their activities in GitHub UI, look at their latest events using GitHub Events API - https://api.github.com/users/<contributor\\>/events, to make a decision on their type. \n",
    "\n",
    "In addition, you should also write a very small reason why do you think they are bot or human (e.g., same activity at regular interval so Bot, files committed and code modified looks like Human, comments look like Human, comment look like Bot, test report looks automated so Bot, and so on....). This might be useful to answer the next question as well."
   ]
  },
  {
   "cell_type": "code",
   "execution_count": 16,
   "id": "884a7612-7ff7-40a4-805f-113c6f70786b",
   "metadata": {},
   "outputs": [],
   "source": [
    "# Write your manual decision here\n",
    "# example : \n",
    "# manual_list_dict = [{'contributor': 'tommens', 'manual': 'human'}, {....}, {....}, {....}]\n",
    "# pd.DataFrame.from_dict(manual_list_dict)\n",
    "\n",
    "# YOUR CODE BELOW"
   ]
  },
  {
   "cell_type": "code",
   "execution_count": null,
   "id": "93c4ce14-c393-45ba-aba0-bf1ae23d1cca",
   "metadata": {},
   "outputs": [],
   "source": [
    "# merge it with df of predictions. Now your df should have the following six columns\n",
    "# contributor, bothunter, app, bodegha, rabbit, manual\n",
    "\n",
    "# YOUR CODE BELOW\n"
   ]
  },
  {
   "cell_type": "markdown",
   "id": "0ec42ed1-0758-4ce4-82cc-542e490626dc",
   "metadata": {},
   "source": [
    "### Question 3\n",
    "\n",
    "#### Study and report the purpose of these identified bots and humans in the repository assigned to you. \n",
    "\n",
    "For example, the purpose can be based on but not limited to - \n",
    "\n",
    "the type of activities that they are performing (releasing a version on every Sunday, updating the documentation), type of comments they are posting (reviewing code, test summary report), when are they triggered (when a new PR is created, when someone in the project ask the bot to merge the code) and so on. \\textbf{Note:} The purpose can be other than what is provided in examples above. \n"
   ]
  },
  {
   "cell_type": "code",
   "execution_count": null,
   "id": "64569eb1-7faa-46e4-bb81-02bb1058b2a7",
   "metadata": {},
   "outputs": [],
   "source": [
    "'''\n",
    "github-merge-queue[bot] : The purpose of the bot is to automatically merge PR or queue them. \n",
    "    If everything in the PR is ok it will merge, if not it will queue the PR.\n",
    "\n",
    "github-actions[bot] : The purpose of the bot is to deploy all kind of actions on user's repositorys to automate their workflow.\n",
    "\n",
    "'''"
   ]
  },
  {
   "cell_type": "markdown",
   "id": "0b41eb2e-b481-4502-94b3-f0d28eb8f76a",
   "metadata": {},
   "source": [
    "### Question 4"
   ]
  },
  {
   "cell_type": "markdown",
   "id": "3ad85279-0ee8-49de-8c5a-bf0850494772",
   "metadata": {},
   "source": [
    "#### Create a column named 'type' to the CSV ﬁle and write your ﬁnal decision on the type of contributor. The ﬁnal decision on their type is the prediciton that majority of the raters predicted (you can ignore the 'Unknown'), in the case of contradiction, you can finalise it as Human.\n",
    "#### Case 1: If two raters has mentioned a contributor as Bot and others mentioned it as 'Unknown', then the type of the account is Bot.  \n",
    "#### Case 2: If 3 raters give 'Unknown' to a contributor then the prediction given by the fourth rater is final.\n",
    "#### Case 3: If 2 raters give the prediciton as 'Bot' and 2 raters give it as 'Human', then the final decision is 'Human'\n",
    "#### In this step, GitHub Apps should be marked as App and not as a Bot."
   ]
  },
  {
   "cell_type": "code",
   "execution_count": 22,
   "id": "1040a69f-25cb-467a-9afd-6f32f6ae2a6e",
   "metadata": {},
   "outputs": [
    {
     "name": "stdout",
     "output_type": "stream",
     "text": [
      "                contributor bothunter    app  bodegha rabbit   type\n",
      "0            flyio-buildbot       Bot  False  Unknown    Bot    Bot\n",
      "1         blockstack-devops       Bot  False  Unknown    Bot    Bot\n",
      "2                SMillerDev     Human  False    Human  Human  Human\n",
      "3                    petere     Human  False  Unknown  Human  Human\n",
      "4                 bfontaine     Human  False  Unknown  Human  Human\n",
      "5                   zuisong     Human  False    Human  Human  Human\n",
      "6          asyncapi-bot-eve       Bot  False  Unknown    Bot    Bot\n",
      "7            EricFromCanada     Human  False    Human  Human  Human\n",
      "8                   Moulick     Human  False    Human  Human  Human\n",
      "9               BrewTestBot       Bot  False    Human    Bot    Bot\n",
      "10                 carlocab     Human  False    Human  Human  Human\n",
      "11                  ddollar     Human  False  Unknown  Human  Human\n",
      "12                  seratch     Human  False  Unknown  Human  Human\n",
      "13                   sferik     Human  False  Unknown  Human  Human\n",
      "14                  samford     Human  False    Human  Human  Human\n",
      "15            jesseduffield     Human  False  Unknown  Human  Human\n",
      "16                    claui     Human  False  Unknown  Human  Human\n",
      "17               jeremylong     Human  False      Bot  Human  Human\n",
      "18                  tchajed     Human  False  Unknown  Human  Human\n",
      "19          FnControlOption     Human  False  Unknown  Human  Human\n",
      "20         flyio-flyctl-bot       Bot  False  Unknown    Bot    Bot\n",
      "21                     avsm     Human  False  Unknown  Human  Human\n",
      "22              denysdovhan     Human  False  Unknown  Human  Human\n",
      "23                 derrabus     Human  False    Human  Human  Human\n",
      "24  github-merge-queue[bot]       Bot   True  Unknown    Bot    App\n",
      "25                 jidicula     Human  False  Unknown  Human  Human\n",
      "26                bevanjkay     Human  False    Human  Human  Human\n",
      "27            branchvincent     Human  False    Human  Human  Human\n",
      "28                   nevack     Human  False  Unknown  Human  Human\n",
      "29                     mkhl     Human  False  Unknown  Human  Human\n",
      "30                  wing328     Human  False  Unknown  Human  Human\n",
      "31                 stgraber     Human  False  Unknown  Human  Human\n",
      "32               soloio-bot       Bot  False  Unknown    Bot    Bot\n",
      "33                  matchai     Human  False  Unknown  Human  Human\n",
      "34                kevinAlbs     Human  False  Unknown  Human  Human\n",
      "35                 curquiza     Human  False      Bot  Human  Human\n",
      "36               dandavison     Human  False  Unknown  Human  Human\n",
      "37               pulumi-bot       Bot  False      Bot    Bot    Bot\n",
      "38             epistrephein     Human  False  Unknown  Human  Human\n",
      "39      github-actions[bot]       Bot   True      Bot    Bot    App\n"
     ]
    }
   ],
   "source": [
    "# Make a final decision on the type based on the predictions given by bothunter, bodegha, bothunter and your manual labelling. \n",
    "# Now your df should contain seven columns - contributor, bothunter, app, bodegha, rabbit, manual and type\n",
    "\n",
    "# YOUR CODE BELOW\n",
    "results = []\n",
    "for index, row in rabbit_full_df.iterrows():\n",
    "    contributor = row['contributor']\n",
    "    predictions = row[['bothunter', 'bodegha', 'rabbit']]\n",
    "    app = row['app']\n",
    "    human_occurence = 0\n",
    "    unknown_occurences = 0\n",
    "    bot_occurences = 0\n",
    "    for prediction in predictions:\n",
    "        if prediction == 'Human':\n",
    "            human_occurence += 1\n",
    "        elif prediction == 'Unknown':\n",
    "            unknown_occurences += 1\n",
    "        elif prediction == 'Bot':\n",
    "            bot_occurences += 1\n",
    "\n",
    "    if human_occurence < bot_occurences:\n",
    "        if app:\n",
    "            results.append({'contributor': contributor, 'type': 'App'})\n",
    "        else:\n",
    "            results.append({'contributor': contributor, 'type': 'Bot'})\n",
    "    \n",
    "    else:\n",
    "        results.append({'contributor': contributor, 'type': 'Human'})\n",
    "\n",
    "results_df = pd.DataFrame.from_dict(results)\n",
    "\n",
    "final_decision = pd.merge(rabbit_full_df, results_df, on='contributor')\n",
    "\n",
    "print(final_decision)"
   ]
  },
  {
   "cell_type": "markdown",
   "id": "40f47f01-f3be-4309-b37c-e23b4887db93",
   "metadata": {},
   "source": [
    "### Question 5 (a)\n",
    "\n",
    "#### Compute and report the Fleiss Kappa interrater agreement score between the labels computed by all bot identiﬁcation tools."
   ]
  },
  {
   "cell_type": "markdown",
   "id": "4c828483-7d39-40b0-be45-e61264daa1bd",
   "metadata": {},
   "source": [
    "##### For example:\n",
    "\n",
    "converted_df = aggregate_raters(np.array(df[['rater1','rater2']]))  \n",
    "kappa = fleiss_kappa(converted_df[0])  \n",
    "print('kappa')  "
   ]
  },
  {
   "cell_type": "markdown",
   "id": "e94e819d-1e1b-4e00-935c-617f7b4585f5",
   "metadata": {},
   "source": [
    "#### a. between bothunter and rabbit"
   ]
  },
  {
   "cell_type": "code",
   "execution_count": 28,
   "id": "a72de000-7e18-4e38-a8d0-f0779c2df4dd",
   "metadata": {},
   "outputs": [
    {
     "name": "stdout",
     "output_type": "stream",
     "text": [
      "Kappa: 1.0\n"
     ]
    }
   ],
   "source": [
    "converted_df1 = aggregate_raters(np.array(final_decision[['bothunter','rabbit']]))\n",
    "kappa1 = fleiss_kappa(converted_df1[0])\n",
    "print(f\"Kappa: {kappa1}\")"
   ]
  },
  {
   "cell_type": "markdown",
   "id": "43b8246f-3071-4642-a0d5-737c5e462f9f",
   "metadata": {},
   "source": [
    "#### b. between bothunter and bodegha"
   ]
  },
  {
   "cell_type": "code",
   "execution_count": 27,
   "id": "cbecc6ac-b80a-4e2d-a944-ceaf61cb6874",
   "metadata": {},
   "outputs": [
    {
     "name": "stdout",
     "output_type": "stream",
     "text": [
      "Kappa: -0.19772844605059373\n"
     ]
    }
   ],
   "source": [
    "converted_df2 = aggregate_raters(np.array(final_decision[['bothunter','bodegha']]))\n",
    "kappa2 = fleiss_kappa(converted_df2[0])\n",
    "print(f\"Kappa: {kappa2}\")"
   ]
  },
  {
   "cell_type": "markdown",
   "id": "bc8ae1a7-f3de-4218-9f10-412e35580490",
   "metadata": {},
   "source": [
    "#### c. between bodegha and rabbit"
   ]
  },
  {
   "cell_type": "code",
   "execution_count": 26,
   "id": "4504ad9e-96dc-4931-94f2-34bac64501ca",
   "metadata": {},
   "outputs": [
    {
     "name": "stdout",
     "output_type": "stream",
     "text": [
      "Kappa: -0.19772844605059373\n"
     ]
    }
   ],
   "source": [
    "converted_df3 = aggregate_raters(np.array(final_decision[['bodegha','rabbit']]))\n",
    "kappa3 = fleiss_kappa(converted_df3[0])\n",
    "print(f\"Kappa: {kappa3}\")"
   ]
  },
  {
   "cell_type": "markdown",
   "id": "5563de23-ee19-4845-ab53-f0ee825c3749",
   "metadata": {},
   "source": [
    "#### d. between bothunter, bodegha and rabbit"
   ]
  },
  {
   "cell_type": "code",
   "execution_count": 30,
   "id": "b09313d6-4b5d-4392-a7a5-d23fdf8763a3",
   "metadata": {},
   "outputs": [
    {
     "name": "stdout",
     "output_type": "stream",
     "text": [
      "Kappa: 0.13604766633565038\n"
     ]
    }
   ],
   "source": [
    "converted_df4 = aggregate_raters(np.array(final_decision[['bothunter', 'bodegha', 'rabbit']]))\n",
    "kappa4 = fleiss_kappa(converted_df4[0])\n",
    "print(f\"Kappa: {kappa4}\")"
   ]
  },
  {
   "cell_type": "markdown",
   "id": "15475bd2-905a-4676-b68b-0ad24e7465ff",
   "metadata": {},
   "source": [
    "### Question 5 (b)\n",
    "#### Report on\n",
    "#### a. What is you interpretation from the kappa values (use the table provided in the description document)? what do you understand?"
   ]
  },
  {
   "cell_type": "code",
   "execution_count": null,
   "id": "af8dd098-a2e3-4e87-a5cc-7347f00280e1",
   "metadata": {},
   "outputs": [],
   "source": [
    "'''\n",
    "For the first pair of raters the kappa is 1.0 it means that we have a perfect agreement between the two raters. Globally they have the same predictions\n",
    "For the second pair of raters the kappa is -0.19 it means that we have no agreement between the two raters. Globally they have different predictions\n",
    "For the third pair of raters the kappa is -0.19 it means that we have no agreement between the two raters. Globally they have different predictions\n",
    "For the fourth pair of raters the kappa is 0.13 it means that they slightly agree. Globally they have different predictions\n",
    "'''"
   ]
  },
  {
   "cell_type": "markdown",
   "id": "7e9462bc-95d6-4fd8-8231-f6e13f19c2eb",
   "metadata": {},
   "source": [
    "#### b. Based on your previous analysis, which bot identification tool would you use, if you want to predict if a contributor is a human or bot? Motivate your answer"
   ]
  },
  {
   "cell_type": "code",
   "execution_count": null,
   "id": "23f9e9ad-4392-43bb-afb3-b33bfa472c50",
   "metadata": {},
   "outputs": [],
   "source": [
    "'''\n",
    "As soon as bodegha is used the kappa is below 0.2. It means that the predictions are not reliable.\n",
    "When we use bothunter and rabbit the kappa is 1.0 It means that the predictions are reliable.\n",
    "So we can say that bodegha is not reliable for the predictions. I would use bothunter and rabbit for the predictions.\n",
    "'''"
   ]
  },
  {
   "cell_type": "markdown",
   "id": "88945f23-8222-4925-b6fc-b049b0761a7a",
   "metadata": {},
   "source": [
    "## Section 5"
   ]
  },
  {
   "cell_type": "markdown",
   "id": "0158557e-2389-45c2-b725-8782923d0f87",
   "metadata": {},
   "source": [
    "#### Query the GitHub Events API to get maximum possible events for each contributor (maximum is 300 events).  \n",
    "#### You can use the following query: '{QUERY_ROOT}/users/{contributor}/events?per_page=100&page={page}' where page = 1 or 2 or 3  \n",
    "#### As you did in earlier task, make a request to GitHub Events API with the required headers, convert the response to JSON, extract the following fields and store in a DataFrame:\n",
    "Event id - json_response['event_id']  \n",
    "Name of the contributor - json_response['actor']['login']  \n",
    "Name of the repository - json_response['repository']['name']  \n",
    "Type of event - json_response['type']  \n",
    "Time of event - json_response['created_at']\n",
    "\n",
    "#### Hint: Query the GitHubEvents API for all contributors. Append the obtained JSON result to a list of JSONs. Process one dictionary after other to get your required fields and store them in another list of dictionaries. Finally convert this dictionaty to DataFrame. OR You can directly convert the list of JSONs to DataFrame using pd.json_normalize() and select the required columns alone.\n",
    "\n",
    "#### The resultant dataframe should have all the recent events performed by all the contributors and the following columns should be present in them - event_id, contributor, repo_name, event_type, created_at.\n"
   ]
  },
  {
   "cell_type": "code",
   "execution_count": 36,
   "id": "a32aae1c-037c-4428-b962-97d1aae2075e",
   "metadata": {},
   "outputs": [
    {
     "name": "stdout",
     "output_type": "stream",
     "text": [
      "          event_id     contributor        repo_name   event_type  \\\n",
      "0      36777977652  flyio-buildbot  superfly/flyctl  CreateEvent   \n",
      "1      36776807787  flyio-buildbot  superfly/flyctl  CreateEvent   \n",
      "2      36776682568  flyio-buildbot  superfly/flyctl  CreateEvent   \n",
      "3      36776610291  flyio-buildbot  superfly/flyctl  CreateEvent   \n",
      "4      36772202633  flyio-buildbot  superfly/flyctl  CreateEvent   \n",
      "...            ...             ...              ...          ...   \n",
      "11995  35928144277  flyio-buildbot  superfly/flyctl  CreateEvent   \n",
      "11996  35923678658  flyio-buildbot  superfly/flyctl  CreateEvent   \n",
      "11997  35886219842  flyio-buildbot  superfly/flyctl  CreateEvent   \n",
      "11998  35850879967  flyio-buildbot  superfly/flyctl  CreateEvent   \n",
      "11999  35849615388  flyio-buildbot  superfly/flyctl  CreateEvent   \n",
      "\n",
      "                 created_at  \n",
      "0      2024-03-21T21:55:02Z  \n",
      "1      2024-03-21T21:03:32Z  \n",
      "2      2024-03-21T20:58:50Z  \n",
      "3      2024-03-21T20:56:12Z  \n",
      "4      2024-03-21T18:20:52Z  \n",
      "...                     ...  \n",
      "11995  2024-02-22T22:51:43Z  \n",
      "11996  2024-02-22T19:49:10Z  \n",
      "11997  2024-02-21T20:19:10Z  \n",
      "11998  2024-02-20T22:55:27Z  \n",
      "11999  2024-02-20T22:00:13Z  \n",
      "\n",
      "[12000 rows x 5 columns]\n"
     ]
    }
   ],
   "source": [
    "# YOUR CODE BELOW\n",
    "events = []\n",
    "for contributor in final_decision['contributor']:\n",
    "    for k in range(1, 4):\n",
    "        query = f'{QUERY_ROOT}/users/{contributor}/events?per_page=100&page={k}'\n",
    "        response = requests.get(query, headers=HEADERS)\n",
    "        event = response.json()\n",
    "        for event in json_response:\n",
    "            event_dict = {}\n",
    "            event_dict[\"event_id\"] = event[\"id\"]\n",
    "            event_dict[\"contributor\"] = event[\"actor\"][\"login\"]\n",
    "            event_dict[\"repo_name\"] = event[\"repo\"][\"name\"]\n",
    "            event_dict[\"event_type\"] = event[\"type\"]\n",
    "            event_dict[\"created_at\"] = event[\"created_at\"]\n",
    "\n",
    "            events.append(event_dict)\n",
    "\n",
    "events_df = pd.DataFrame.from_dict(events)\n",
    "print(events_df)"
   ]
  },
  {
   "cell_type": "markdown",
   "id": "6d107b13-0c4f-4a56-a284-596f73a53d2f",
   "metadata": {},
   "source": [
    "### Question 1\n",
    "#### Group each event into the following four categories\n",
    "\n",
    "Issues: IssueCommentEvent, IssuesEvent  \n",
    "Pull Requests: PullRequestEvent, PullRequestReviewCommentEvent  \n",
    "Commits: CommitCommentEvent, PushEvent  \n",
    "Repository: CreateEvent, DeleteEvent, ForkEvent, GollumEvent, MemberEvent, PublicEvent, ReleaseEvent, SponsorshipEvent, WatchEvent  \n",
    "\n",
    "#### Hint:\n",
    "1. Add a column called event_group that mentions which event group does that event belong to. Each event (row) should correspond to an event group.  \n",
    "2. Then perform groupby on ['contributor','event_group'],  \n",
    "3. use .agg (https://pandas.pydata.org/pandas-docs/stable/reference/api/pandas.DataFrame.agg.html) to count the number of events performed by each contributor in each group,  \n",
    "4. use pivot with the required arguments (https://pandas.pydata.org/pandas-docs/stable/reference/api/pandas.DataFrame.pivot.html). An example is given [here](#pivot_example) in question 2(b), and  \n",
    "5. finally merge it with your 'type' field from the DataFrame you got in Section4\n",
    "\n",
    "The final DataFrame should be looking like the following  \n",
    "![](event_group.png)"
   ]
  },
  {
   "cell_type": "code",
   "execution_count": null,
   "id": "06072cfd-9de7-4e25-a3fa-11296a728484",
   "metadata": {},
   "outputs": [],
   "source": [
    "# In the resultant DataFrame - each row should corespond to a contributor, and the columns should have all the event groups  \n",
    "# and the type of the contributor (that you decided in the previous DataFrame) and the values should be the number \n",
    "# of events of that event event group the contriubutor has performed.\n",
    "\n",
    "issue_group = ['IssueCommentEvent', 'IssuesEvent']\n",
    "pr_group = ['PullRequestEvent', 'PullRequestReviewCommentEvent']\n",
    "commit_group = ['CommitCommentEvent', 'PushEvent']\n",
    "repo_group = ['CreateEvent', 'DeleteEvent', 'ForkEvent', 'GollumEvent', 'MemberEvent', 'PublicEvent', 'ReleaseEvent', 'SponsorshipEvent', 'WatchEvent']"
   ]
  },
  {
   "cell_type": "code",
   "execution_count": null,
   "id": "326eaddf-c6f2-4e7e-a3e1-37183a3c90ca",
   "metadata": {},
   "outputs": [],
   "source": [
    "# YOUR CODE BELOW\n"
   ]
  },
  {
   "cell_type": "code",
   "execution_count": null,
   "id": "3b8b35af-92af-4ffd-8d99-2dd34d865ac1",
   "metadata": {},
   "outputs": [],
   "source": [
    "# YOUR CODE BELOW\n"
   ]
  },
  {
   "cell_type": "markdown",
   "id": "afca3310-5bef-48f5-be38-e0861d5c43b6",
   "metadata": {},
   "source": [
    "### Question 2 (a)\n",
    "\n",
    "#### Compute the median number of events per event group for Bot+Apps and Humans and write in DataFrame.\n",
    "\n",
    "Row should correspond to type (Bot_App and Human), Column should have Event group name and the values should be the median value of Bot_App or Human for that particular event group. An example is given below"
   ]
  },
  {
   "cell_type": "code",
   "execution_count": null,
   "id": "ef89644a-1f38-4e67-81ab-c54db8d6c0ad",
   "metadata": {},
   "outputs": [
    {
     "data": {
      "text/html": [
       "<div>\n",
       "<style scoped>\n",
       "    .dataframe tbody tr th:only-of-type {\n",
       "        vertical-align: middle;\n",
       "    }\n",
       "\n",
       "    .dataframe tbody tr th {\n",
       "        vertical-align: top;\n",
       "    }\n",
       "\n",
       "    .dataframe thead th {\n",
       "        text-align: right;\n",
       "    }\n",
       "</style>\n",
       "<table border=\"1\" class=\"dataframe\">\n",
       "  <thead>\n",
       "    <tr style=\"text-align: right;\">\n",
       "      <th></th>\n",
       "      <th>event_group</th>\n",
       "      <th>median</th>\n",
       "      <th>type</th>\n",
       "    </tr>\n",
       "  </thead>\n",
       "  <tbody>\n",
       "    <tr>\n",
       "      <th>0</th>\n",
       "      <td>event_group1</td>\n",
       "      <td>val1</td>\n",
       "      <td>Bot_app</td>\n",
       "    </tr>\n",
       "    <tr>\n",
       "      <th>1</th>\n",
       "      <td>event_group1</td>\n",
       "      <td>val2</td>\n",
       "      <td>Human</td>\n",
       "    </tr>\n",
       "    <tr>\n",
       "      <th>2</th>\n",
       "      <td>event_group2</td>\n",
       "      <td>val3</td>\n",
       "      <td>Bot_app</td>\n",
       "    </tr>\n",
       "    <tr>\n",
       "      <th>3</th>\n",
       "      <td>event_group2</td>\n",
       "      <td>val4</td>\n",
       "      <td>Human</td>\n",
       "    </tr>\n",
       "    <tr>\n",
       "      <th>4</th>\n",
       "      <td>event_group3</td>\n",
       "      <td>val5</td>\n",
       "      <td>Bot_app</td>\n",
       "    </tr>\n",
       "    <tr>\n",
       "      <th>5</th>\n",
       "      <td>event_group3</td>\n",
       "      <td>val6</td>\n",
       "      <td>Human</td>\n",
       "    </tr>\n",
       "    <tr>\n",
       "      <th>6</th>\n",
       "      <td>event_group4</td>\n",
       "      <td>val7</td>\n",
       "      <td>Bot_app</td>\n",
       "    </tr>\n",
       "    <tr>\n",
       "      <th>7</th>\n",
       "      <td>event_group5</td>\n",
       "      <td>val8</td>\n",
       "      <td>Human</td>\n",
       "    </tr>\n",
       "  </tbody>\n",
       "</table>\n",
       "</div>"
      ],
      "text/plain": [
       "    event_group median     type\n",
       "0  event_group1   val1  Bot_app\n",
       "1  event_group1   val2    Human\n",
       "2  event_group2   val3  Bot_app\n",
       "3  event_group2   val4    Human\n",
       "4  event_group3   val5  Bot_app\n",
       "5  event_group3   val6    Human\n",
       "6  event_group4   val7  Bot_app\n",
       "7  event_group5   val8    Human"
      ]
     },
     "execution_count": 61,
     "metadata": {},
     "output_type": "execute_result"
    }
   ],
   "source": [
    "# For example:\n",
    "medians = [{'event_group': 'event_group1', 'median': 'val1', 'type': 'Bot_app'}, \n",
    "           {'event_group': 'event_group1', 'median': 'val2', 'type': 'Human'},\n",
    "           {'event_group': 'event_group2', 'median': 'val3', 'type': 'Bot_app'},\n",
    "           {'event_group': 'event_group2', 'median': 'val4', 'type': 'Human'},\n",
    "           {'event_group': 'event_group3', 'median': 'val5', 'type': 'Bot_app'},\n",
    "           {'event_group': 'event_group3', 'median': 'val6', 'type': 'Human'},\n",
    "           {'event_group': 'event_group4', 'median': 'val7', 'type': 'Bot_app'},\n",
    "           {'event_group': 'event_group5', 'median': 'val8', 'type': 'Human'}]\n",
    "df_medians = pd.DataFrame.from_dict(medians)\n",
    "df_medians"
   ]
  },
  {
   "cell_type": "code",
   "execution_count": null,
   "id": "1c3dc1ce-f19c-44b7-8fa1-35df0ffaa936",
   "metadata": {},
   "outputs": [],
   "source": [
    "# YOUR CODE BELOW"
   ]
  },
  {
   "cell_type": "markdown",
   "id": "8eafa8a6-3c98-41db-bebd-64adc634f77f",
   "metadata": {},
   "source": [
    "### Question 2 (b)\n",
    "\n",
    "Plot a heatmap of the DataFrame using seaborn - \n",
    "1. First convert the dataframe to the required format using pivot, example is given below\n",
    "2. plot using seaborn - sns.heatmap(df_medians, annot=True, vmin=0, vmax=300, cmap=\"crest\"). More details: https://seaborn.pydata.org/generated/seaborn.heatmap.html)"
   ]
  },
  {
   "cell_type": "markdown",
   "id": "2bd13bb8-628d-444e-b4a2-9887378a9cef",
   "metadata": {},
   "source": [
    "#### pd.pivot example:\n",
    "<a id='pivot_example'></a>"
   ]
  },
  {
   "cell_type": "code",
   "execution_count": null,
   "id": "3fbf8d1e-86ba-4b86-8bfc-d1bba83c63a8",
   "metadata": {},
   "outputs": [
    {
     "data": {
      "text/html": [
       "<div>\n",
       "<style scoped>\n",
       "    .dataframe tbody tr th:only-of-type {\n",
       "        vertical-align: middle;\n",
       "    }\n",
       "\n",
       "    .dataframe tbody tr th {\n",
       "        vertical-align: top;\n",
       "    }\n",
       "\n",
       "    .dataframe thead th {\n",
       "        text-align: right;\n",
       "    }\n",
       "</style>\n",
       "<table border=\"1\" class=\"dataframe\">\n",
       "  <thead>\n",
       "    <tr style=\"text-align: right;\">\n",
       "      <th></th>\n",
       "      <th>event_group</th>\n",
       "      <th>median</th>\n",
       "      <th>type</th>\n",
       "    </tr>\n",
       "  </thead>\n",
       "  <tbody>\n",
       "    <tr>\n",
       "      <th>0</th>\n",
       "      <td>event_group1</td>\n",
       "      <td>val1</td>\n",
       "      <td>Bot_app</td>\n",
       "    </tr>\n",
       "    <tr>\n",
       "      <th>1</th>\n",
       "      <td>event_group1</td>\n",
       "      <td>val2</td>\n",
       "      <td>Human</td>\n",
       "    </tr>\n",
       "    <tr>\n",
       "      <th>2</th>\n",
       "      <td>event_group2</td>\n",
       "      <td>val3</td>\n",
       "      <td>Bot_app</td>\n",
       "    </tr>\n",
       "    <tr>\n",
       "      <th>3</th>\n",
       "      <td>event_group2</td>\n",
       "      <td>val4</td>\n",
       "      <td>Human</td>\n",
       "    </tr>\n",
       "    <tr>\n",
       "      <th>4</th>\n",
       "      <td>event_group3</td>\n",
       "      <td>val5</td>\n",
       "      <td>Bot_app</td>\n",
       "    </tr>\n",
       "    <tr>\n",
       "      <th>5</th>\n",
       "      <td>event_group3</td>\n",
       "      <td>val6</td>\n",
       "      <td>Human</td>\n",
       "    </tr>\n",
       "    <tr>\n",
       "      <th>6</th>\n",
       "      <td>event_group4</td>\n",
       "      <td>val7</td>\n",
       "      <td>Bot_app</td>\n",
       "    </tr>\n",
       "    <tr>\n",
       "      <th>7</th>\n",
       "      <td>event_group5</td>\n",
       "      <td>val8</td>\n",
       "      <td>Human</td>\n",
       "    </tr>\n",
       "  </tbody>\n",
       "</table>\n",
       "</div>"
      ],
      "text/plain": [
       "    event_group median     type\n",
       "0  event_group1   val1  Bot_app\n",
       "1  event_group1   val2    Human\n",
       "2  event_group2   val3  Bot_app\n",
       "3  event_group2   val4    Human\n",
       "4  event_group3   val5  Bot_app\n",
       "5  event_group3   val6    Human\n",
       "6  event_group4   val7  Bot_app\n",
       "7  event_group5   val8    Human"
      ]
     },
     "execution_count": 63,
     "metadata": {},
     "output_type": "execute_result"
    }
   ],
   "source": [
    "# Main DataFrame\n",
    "medians = [{'event_group': 'event_group1', 'median': 'val1', 'type': 'Bot_app'}, \n",
    "           {'event_group': 'event_group1', 'median': 'val2', 'type': 'Human'},\n",
    "           {'event_group': 'event_group2', 'median': 'val3', 'type': 'Bot_app'},\n",
    "           {'event_group': 'event_group2', 'median': 'val4', 'type': 'Human'},\n",
    "           {'event_group': 'event_group3', 'median': 'val5', 'type': 'Bot_app'},\n",
    "           {'event_group': 'event_group3', 'median': 'val6', 'type': 'Human'},\n",
    "           {'event_group': 'event_group4', 'median': 'val7', 'type': 'Bot_app'},\n",
    "           {'event_group': 'event_group5', 'median': 'val8', 'type': 'Human'}]\n",
    "df_medians = pd.DataFrame.from_dict(medians)\n",
    "df_medians"
   ]
  },
  {
   "cell_type": "code",
   "execution_count": null,
   "id": "816f28a7-c281-4808-b987-5d74a1c08271",
   "metadata": {},
   "outputs": [
    {
     "data": {
      "text/html": [
       "<div>\n",
       "<style scoped>\n",
       "    .dataframe tbody tr th:only-of-type {\n",
       "        vertical-align: middle;\n",
       "    }\n",
       "\n",
       "    .dataframe tbody tr th {\n",
       "        vertical-align: top;\n",
       "    }\n",
       "\n",
       "    .dataframe thead th {\n",
       "        text-align: right;\n",
       "    }\n",
       "</style>\n",
       "<table border=\"1\" class=\"dataframe\">\n",
       "  <thead>\n",
       "    <tr style=\"text-align: right;\">\n",
       "      <th>event_group</th>\n",
       "      <th>event_group1</th>\n",
       "      <th>event_group2</th>\n",
       "      <th>event_group3</th>\n",
       "      <th>event_group4</th>\n",
       "      <th>event_group5</th>\n",
       "    </tr>\n",
       "    <tr>\n",
       "      <th>type</th>\n",
       "      <th></th>\n",
       "      <th></th>\n",
       "      <th></th>\n",
       "      <th></th>\n",
       "      <th></th>\n",
       "    </tr>\n",
       "  </thead>\n",
       "  <tbody>\n",
       "    <tr>\n",
       "      <th>Bot_app</th>\n",
       "      <td>val1</td>\n",
       "      <td>val3</td>\n",
       "      <td>val5</td>\n",
       "      <td>val7</td>\n",
       "      <td>NaN</td>\n",
       "    </tr>\n",
       "    <tr>\n",
       "      <th>Human</th>\n",
       "      <td>val2</td>\n",
       "      <td>val4</td>\n",
       "      <td>val6</td>\n",
       "      <td>NaN</td>\n",
       "      <td>val8</td>\n",
       "    </tr>\n",
       "  </tbody>\n",
       "</table>\n",
       "</div>"
      ],
      "text/plain": [
       "event_group event_group1 event_group2 event_group3 event_group4 event_group5\n",
       "type                                                                        \n",
       "Bot_app             val1         val3         val5         val7          NaN\n",
       "Human               val2         val4         val6          NaN         val8"
      ]
     },
     "execution_count": 64,
     "metadata": {},
     "output_type": "execute_result"
    }
   ],
   "source": [
    "# pivot the main DataFrame\n",
    "df_medians.pivot(index='type', columns='event_group', values='median')#.reset_index().rename_axis(None,axis=1)"
   ]
  },
  {
   "cell_type": "code",
   "execution_count": null,
   "id": "24478c26-f367-4589-85dc-3cfa22614f3e",
   "metadata": {},
   "outputs": [],
   "source": [
    "# YOUR CODE BELOW"
   ]
  },
  {
   "cell_type": "code",
   "execution_count": null,
   "id": "ab7b9ff6-1286-4c5b-a604-5459b6d2b099",
   "metadata": {},
   "outputs": [],
   "source": [
    "# YOUR CODE BELOW\n"
   ]
  },
  {
   "cell_type": "markdown",
   "id": "19d518fd-10f0-4f91-a38e-595fe89f36a2",
   "metadata": {},
   "source": [
    "#### What is the difference that you observe between Bots+Apps and Humans?"
   ]
  },
  {
   "cell_type": "code",
   "execution_count": null,
   "id": "df3a1600-7110-4866-9de3-42b85b407722",
   "metadata": {},
   "outputs": [],
   "source": []
  },
  {
   "cell_type": "markdown",
   "id": "1bbc377f-79bb-4b52-9bba-fe7cc4a804ab",
   "metadata": {},
   "source": [
    "#### What is the differnce that you observe between Event groups?"
   ]
  },
  {
   "cell_type": "code",
   "execution_count": null,
   "id": "064cc1a2-c910-47a8-b327-deba02a815a1",
   "metadata": {},
   "outputs": [],
   "source": []
  },
  {
   "cell_type": "markdown",
   "id": "5e941d75-0450-46f4-9345-d7f109ff9b92",
   "metadata": {},
   "source": [
    "#### What is the difference that you observe between Bots+Apps and Humans and Event groups all considering at the same time?"
   ]
  },
  {
   "cell_type": "code",
   "execution_count": null,
   "id": "7145cbf9-e9a6-4798-aa23-54428bc7f73b",
   "metadata": {},
   "outputs": [],
   "source": []
  },
  {
   "cell_type": "markdown",
   "id": "5c402f2c-2628-4957-ac76-e48bb85564cf",
   "metadata": {},
   "source": [
    "### Question 3"
   ]
  },
  {
   "cell_type": "markdown",
   "id": "b7fd623c-4bc5-4cef-9649-fb8cdd41e981",
   "metadata": {},
   "source": [
    "#### Create box plots or boxen plots or violin plots or a combination of these to visualise the distribution of number of events in each event group. \n",
    "#### For more information you can visit - https://seaborn.pydata.org/tutorial/categorical.html#categorical-tutorial  \n",
    "#### For violin plots - https://seaborn.pydata.org/generated/seaborn.violinplot.html  \n",
    "#### You should highlight the data points that correspond to bots using a stripplot in seaborn. https://seaborn.pydata.org/tutorial/categorical.html#categorical-tutorial  \n",
    "#### Interpret the results of the visualisation."
   ]
  },
  {
   "cell_type": "code",
   "execution_count": null,
   "id": "21a499ac-e0c7-4b0d-9f90-78b704a13ef2",
   "metadata": {},
   "outputs": [],
   "source": [
    "# YOUR CODE BELOW - Visualize number of events from pull request event group\n"
   ]
  },
  {
   "cell_type": "code",
   "execution_count": null,
   "id": "330c9d73-28a9-4d83-9728-cf595374235b",
   "metadata": {},
   "outputs": [],
   "source": [
    "# YOUR CODE BELOW - Visualise number of events from issue event group\n"
   ]
  },
  {
   "cell_type": "code",
   "execution_count": null,
   "id": "a7ec1644-8c4d-4bd8-b504-3196ddab982e",
   "metadata": {},
   "outputs": [],
   "source": [
    "# YOUR CODE BELOW - Visualise number of events from commit event group\n"
   ]
  },
  {
   "cell_type": "code",
   "execution_count": null,
   "id": "d1c2536a-0f6c-4f2e-a8a5-b07e8abf5217",
   "metadata": {},
   "outputs": [],
   "source": [
    "# YOUR CODE BELOW - Visualise number of events from repo event group\n"
   ]
  },
  {
   "cell_type": "markdown",
   "id": "a663a24f-ebbd-4707-a8e2-c4a72a9451a7",
   "metadata": {},
   "source": [
    "### Question 4.1"
   ]
  },
  {
   "cell_type": "markdown",
   "id": "ea2541bc-5f3a-4ce3-bfb1-21e16104b4c5",
   "metadata": {},
   "source": [
    "#### Statistical identify whether number of events in each event group is normally distributed or not.\n",
    "#### Null hypothesis - $H_0$: Sample comes from the data that has normal distribution.\n",
    "#### Use Shapiro-Wilk test for this purpose. Use the p-value with a threshold of 0.05 to determine whether $H_0$ can be rejected with statistical significance or not. \n",
    "\n",
    "#### Use shapiro from scipy.stats to perform this test (https://docs.scipy.org/doc/scipy/reference/generated/scipy.stats.shapiro.html)"
   ]
  },
  {
   "cell_type": "code",
   "execution_count": null,
   "id": "d4273e9c-f29f-4b46-ab75-3ceb16a2aae6",
   "metadata": {},
   "outputs": [],
   "source": [
    "# YOUR CODE BELOW"
   ]
  },
  {
   "cell_type": "code",
   "execution_count": null,
   "id": "03c8617f-a3ed-40ad-8b2f-7ff0a41c3518",
   "metadata": {},
   "outputs": [],
   "source": []
  },
  {
   "cell_type": "markdown",
   "id": "e7ed78ce-6901-4ddb-a219-d5a8c4e26886",
   "metadata": {},
   "source": [
    "### Question 4.2\n",
    "#### Determine if there is any statistical diﬀerence in number of events between the identified event groups. Perform this test on all pairs of event groups. \n",
    "#### Null hypothesis - $H_0$: Any two event group come from the same population.\n",
    "#### If $H_0$ is rejected in Shapiro-Wilk test (at least for one of the two event groups considered for test), use the Mann-Whitney U statistical test for this purpose. If $H_0$ is not rejected in Shapiro-Wilk test, use the independent t-test for this purpose.  \n",
    "#### In any case, use the p-value with a threshold of 0.01 to determine whether $H_0$ can be rejected with statistical significance. \n",
    "\n",
    "#### Use mannwhitneyu from scipy.stats to perform Mann-Whitney U test (https://docs.scipy.org/doc/scipy/reference/generated/scipy.stats.mannwhitneyu.html) \n",
    "#### or \n",
    "#### ttest_ind from scipy.stats to perform independent t-test https://docs.scipy.org/doc/scipy/reference/generated/scipy.stats.ttest_ind.html."
   ]
  },
  {
   "cell_type": "markdown",
   "id": "3d3fe255-f6a8-4c49-92aa-1859c98d51c1",
   "metadata": {},
   "source": [
    "#### More information:\n",
    "\n",
    "You can pass the following arguments to mannwhitneyu from scipy.stats - (method='exact', nan_policy='omit'). For ttest_ind you can use - (nan_policy='omit')"
   ]
  },
  {
   "cell_type": "code",
   "execution_count": null,
   "id": "7e7c952f-15a8-4634-b786-90ff1e8f20da",
   "metadata": {},
   "outputs": [],
   "source": [
    "# YOUR CODE BELOW"
   ]
  },
  {
   "cell_type": "markdown",
   "id": "f443dbbc-a8f1-4281-aadb-8ec8f9c792da",
   "metadata": {},
   "source": [
    "### Question 5\n",
    "#### Each time you reject the null hypothesis $H_0$, quantify the effect size of the diﬀerence between the groups using cliﬀ’s delta ($\\delta$). \n",
    "#### To calculate cliﬀ’s delta, you can pass the list of values to cliﬀ delta.py file given in the repository. E.g., cliffsDelta.cliffsDelta(list of values). This will return the effect size and its interpretation (negligible, small, medium, large)."
   ]
  },
  {
   "cell_type": "code",
   "execution_count": null,
   "id": "c19a6054-933f-425b-971e-d54a429c901d",
   "metadata": {},
   "outputs": [],
   "source": [
    "# YOU CODE BELOW"
   ]
  },
  {
   "cell_type": "markdown",
   "id": "3cd1e637-c222-4497-b8b6-a61252349bdc",
   "metadata": {},
   "source": [
    "### Qusetion 6"
   ]
  },
  {
   "cell_type": "markdown",
   "id": "d0056ddd-2f2e-49a8-9bda-c4117be7fda7",
   "metadata": {},
   "source": [
    "#### Create violinplots to visualise the distributions for the following metrics and answer the questions that follow it. You should highlight the data points corresponding to bots using a stripplot in seaborn.\n",
    "\n",
    "#### Hint:\n",
    "\n",
    "1. Merge you DataFrame of event with the type of contributor that you identified in section 3.\n",
    "2. Write a function that you will use for all the seaborn plots. This way you can reduce duplication and update it easily."
   ]
  },
  {
   "cell_type": "code",
   "execution_count": null,
   "id": "c7d168b2-50d9-41a8-84ca-3f40fddaaf39",
   "metadata": {},
   "outputs": [],
   "source": [
    "# YOUR CODE BELOW - function for seaborn plot\n"
   ]
  },
  {
   "cell_type": "markdown",
   "id": "04f0e866-0588-40b4-8834-a5722e55d7f2",
   "metadata": {},
   "source": [
    "#### Total number of events"
   ]
  },
  {
   "cell_type": "code",
   "execution_count": null,
   "id": "51e9fca8-4f73-428b-b5ef-d7d7f80a4820",
   "metadata": {},
   "outputs": [],
   "source": [
    "# YOUR CODE BELOW"
   ]
  },
  {
   "cell_type": "markdown",
   "id": "06b79e67-83b8-4f1a-9436-b462e786e7bd",
   "metadata": {},
   "source": [
    "#### Number of event types"
   ]
  },
  {
   "cell_type": "code",
   "execution_count": null,
   "id": "1f485dcb-900c-4cbb-bb77-06702156d738",
   "metadata": {},
   "outputs": [],
   "source": [
    "# YOUR CODE BELOW"
   ]
  },
  {
   "cell_type": "markdown",
   "id": "e12f1d24-58c4-4da2-a258-64b3f0890aba",
   "metadata": {},
   "source": [
    "#### Mean number of events per event type"
   ]
  },
  {
   "cell_type": "code",
   "execution_count": null,
   "id": "46259ecf-ed64-40b8-b43a-0bf3a2a74444",
   "metadata": {},
   "outputs": [],
   "source": [
    "# YOUR CODE BELOW"
   ]
  },
  {
   "cell_type": "markdown",
   "id": "27470611-0758-4007-809b-61406d11e168",
   "metadata": {},
   "source": [
    "#### Mean number of events per event group"
   ]
  },
  {
   "cell_type": "code",
   "execution_count": null,
   "id": "62068e1f-24de-481b-a3e2-18ae1f246c00",
   "metadata": {},
   "outputs": [],
   "source": [
    "# YOUR CODE BELOW"
   ]
  },
  {
   "cell_type": "markdown",
   "id": "19f6a36a-5db2-4476-86da-8d08038846cb",
   "metadata": {},
   "source": [
    "#### Gini coeﬃcient of time between consecutive event"
   ]
  },
  {
   "cell_type": "code",
   "execution_count": null,
   "id": "7632b026-bf64-4757-b96b-9d6938592fed",
   "metadata": {},
   "outputs": [],
   "source": [
    "def time_diffs(time_stamps):\n",
    "    diff_time_stamps = np.array([])\n",
    "    for i in range(len(time_stamps)-1):\n",
    "        diff = (time_stamps.iloc[i+1] - time_stamps.iloc[i])/pd.to_timedelta('1 second')\n",
    "        diff_time_stamps = np.append(diff_time_stamps, [diff])\n",
    "    return(diff_time_stamps)"
   ]
  },
  {
   "cell_type": "code",
   "execution_count": null,
   "id": "44b4da8d-74aa-4852-b810-b947396eb9c2",
   "metadata": {},
   "outputs": [],
   "source": [
    "def gini(time_stamps):\n",
    "    '''\n",
    "    args: time_stamps - Series of time stamps for a contributor\n",
    "    \n",
    "    return: g_coeff - float that gives gini coefficient\n",
    "    \n",
    "    method: calculate the Gini coefficient of a numpy array\n",
    "    '''\n",
    "    array = time_diffs(time_stamps)\n",
    "    array = array[array!=0]\n",
    "    if len(array) == 0:\n",
    "        return np.float64(0.0)\n",
    "    array = array.flatten()\n",
    "    array = np.sort(array)\n",
    "    index = np.arange(1, array.shape[0] + 1)\n",
    "    n = array.shape[0]\n",
    "    g_coeff = (np.sum((2 * index - n - 1) * array)) / (n * np.sum(array))\n",
    "    \n",
    "    return (g_coeff.round(4))"
   ]
  },
  {
   "cell_type": "markdown",
   "id": "4d438245-7514-441c-82f3-879e40654c40",
   "metadata": {},
   "source": [
    "You can pass a Series of time-stamps to gini(time_stamps) function to get the Gini coeﬃcient\n",
    "#### Hint:\n",
    "1. Groupby the contributors on 'contributor' and use gini as .agg function on 'created_at'.\n",
    "2. Merge the resultant DataFram with their type (the df that you got in section 4)\n",
    "3. Make box/boxen/violin plots on those gini values"
   ]
  },
  {
   "cell_type": "code",
   "execution_count": null,
   "id": "fd745a1f-abe2-4538-8af6-e6004991cd2e",
   "metadata": {},
   "outputs": [],
   "source": [
    "# YOUR CODE BELOW\n"
   ]
  },
  {
   "cell_type": "code",
   "execution_count": null,
   "id": "90504834-e64e-4c1f-b102-733bacae2934",
   "metadata": {},
   "outputs": [],
   "source": [
    "# YOUR CODE BELOW\n"
   ]
  },
  {
   "cell_type": "markdown",
   "id": "e49d9ca9-e5db-4a9d-8c0e-91a9203b546d",
   "metadata": {},
   "source": [
    "### Question 6.1"
   ]
  },
  {
   "cell_type": "markdown",
   "id": "64d6beec-e66b-4c4f-b75a-2fc5a20e9cf1",
   "metadata": {},
   "source": [
    "#### Do you ﬁnd any set of accounts having a diverging behaviour? (Hint: look for outliers.)"
   ]
  },
  {
   "cell_type": "code",
   "execution_count": null,
   "id": "4ae0da5d-52f3-4dc3-8051-8955a31b6de6",
   "metadata": {},
   "outputs": [],
   "source": []
  },
  {
   "cell_type": "markdown",
   "id": "163bc987-51d9-4d18-9120-a38267219d26",
   "metadata": {},
   "source": [
    "### Question 6.2"
   ]
  },
  {
   "cell_type": "markdown",
   "id": "9521d008-1576-4212-98f9-e0740278f106",
   "metadata": {},
   "source": [
    "#### What is the type of the accounts that have diverging behaviour?"
   ]
  },
  {
   "cell_type": "code",
   "execution_count": null,
   "id": "b4a4f4e7-f497-43b2-b889-c8431f9c3f54",
   "metadata": {},
   "outputs": [],
   "source": []
  },
  {
   "cell_type": "markdown",
   "id": "2f0886b1-158f-4e59-83f0-1f8753605fb5",
   "metadata": {},
   "source": [
    "### Question 6.3"
   ]
  },
  {
   "cell_type": "markdown",
   "id": "92a22e22-5b3f-4637-b3c3-d0992b3b0219",
   "metadata": {},
   "source": [
    "#### Do bots have different behaviour than apps? Motivate your answer"
   ]
  },
  {
   "cell_type": "code",
   "execution_count": null,
   "id": "6807c449-d489-46a8-8749-3602685f8351",
   "metadata": {},
   "outputs": [],
   "source": []
  },
  {
   "cell_type": "markdown",
   "id": "b3ad5bea-d77e-45bb-9aff-014845fd648f",
   "metadata": {},
   "source": [
    "### Question 6.4"
   ]
  },
  {
   "cell_type": "markdown",
   "id": "eca85aad-3c25-405b-bcc2-35abf4b3641b",
   "metadata": {},
   "source": [
    "#### Do bots and apps have a diﬀerent behaviour from human accounts? (Hint: in the box plots ﬁnd where the bots and apps are located and find where the humans are located)"
   ]
  },
  {
   "cell_type": "code",
   "execution_count": null,
   "id": "6f4f524e-4651-40fd-8ad1-fb7c82f55126",
   "metadata": {},
   "outputs": [],
   "source": []
  },
  {
   "cell_type": "markdown",
   "id": "a02b6b1b-bdc4-4e2d-8ec8-12fc89737c92",
   "metadata": {},
   "source": [
    "### Question 6.5"
   ]
  },
  {
   "cell_type": "markdown",
   "id": "a15bc77c-e7b7-403b-8974-84f86caa3d77",
   "metadata": {},
   "source": [
    "#### Do all bots (other than outliers) have the same behaviour? List the bots that have a diﬀerent behaviour. Mention your interpretation on the cause of this diverging behaviour compared to other bots?"
   ]
  },
  {
   "cell_type": "code",
   "execution_count": null,
   "id": "1cc51551-8155-4a24-a80b-22ac56b78c33",
   "metadata": {},
   "outputs": [],
   "source": []
  },
  {
   "cell_type": "code",
   "execution_count": null,
   "id": "476c050c-dffa-469c-94f3-568b8c74712e",
   "metadata": {},
   "outputs": [],
   "source": []
  }
 ],
 "metadata": {
  "kernelspec": {
   "display_name": "Python 3 (ipykernel)",
   "language": "python",
   "name": "python3"
  },
  "language_info": {
   "codemirror_mode": {
    "name": "ipython",
    "version": 3
   },
   "file_extension": ".py",
   "mimetype": "text/x-python",
   "name": "python",
   "nbconvert_exporter": "python",
   "pygments_lexer": "ipython3",
   "version": "3.12.2"
  }
 },
 "nbformat": 4,
 "nbformat_minor": 5
}
